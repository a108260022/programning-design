{
  "nbformat": 4,
  "nbformat_minor": 0,
  "metadata": {
    "colab": {
      "name": "week-5-A108260022-楊弘緻.ipynb",
      "provenance": [],
      "collapsed_sections": []
    },
    "kernelspec": {
      "name": "python3",
      "display_name": "Python 3"
    }
  },
  "cells": [
    {
      "cell_type": "code",
      "metadata": {
        "id": "Dd6obc_CXYFW",
        "colab_type": "code",
        "colab": {
          "base_uri": "https://localhost:8080/",
          "height": 102
        },
        "outputId": "000912ba-eb73-4af0-86e7-bb21754de46a"
      },
      "source": [
        "第一次期中考=int(input('請輸入第一次期中考成績'))\n",
        "第二次期中考=int(input('請輸入第二次期中考成績'))\n",
        "期末考=int(input('請輸入期末考成績'))\n",
        "總分=第一次期中考+第二次期中考+期末考\n",
        "平均=總分/3\n",
        "print('總分為',總分)\n",
        "print('平均',平均)"
      ],
      "execution_count": 1,
      "outputs": [
        {
          "output_type": "stream",
          "text": [
            "請輸入第一次期中考成績75\n",
            "請輸入第二次期中考成績80\n",
            "請輸入期末考成績65\n",
            "總分為 220\n",
            "平均 73.33333333333333\n"
          ],
          "name": "stdout"
        }
      ]
    },
    {
      "cell_type": "code",
      "metadata": {
        "id": "vpxNpb3HYk5g",
        "colab_type": "code",
        "colab": {
          "base_uri": "https://localhost:8080/",
          "height": 68
        },
        "outputId": "3818a6d2-7c24-409e-9054-0c8bc127e4f0"
      },
      "source": [
        "#2.英制轉公制\n",
        "尺=int(input('請輸入幾尺'))\n",
        "吋=int(input('請輸入幾吋'))\n",
        "公分=(尺*12+8)*2.54\n",
        "print('轉換成',公分) #公分"
      ],
      "execution_count": 7,
      "outputs": [
        {
          "output_type": "stream",
          "text": [
            "請輸入幾尺5\n",
            "請輸入幾吋8\n",
            "轉換成 172.72\n"
          ],
          "name": "stdout"
        }
      ]
    },
    {
      "cell_type": "code",
      "metadata": {
        "id": "2hCLVZScZ_hI",
        "colab_type": "code",
        "colab": {
          "base_uri": "https://localhost:8080/",
          "height": 51
        },
        "outputId": "8c8e7ea7-01df-4eb8-fab3-9e818c2a3edb"
      },
      "source": [
        "#3.分組報告\n",
        "座號=int(input('請輸入座號?'))\n",
        "組別=int(座號/4)\n",
        "print('組別為',組別)"
      ],
      "execution_count": 8,
      "outputs": [
        {
          "output_type": "stream",
          "text": [
            "請輸入座號?19\n",
            "組別為 4\n"
          ],
          "name": "stdout"
        }
      ]
    },
    {
      "cell_type": "code",
      "metadata": {
        "id": "WlxPwt_paH1c",
        "colab_type": "code",
        "colab": {
          "base_uri": "https://localhost:8080/",
          "height": 51
        },
        "outputId": "4520a065-6c29-41ad-cef7-43d8a107b969"
      },
      "source": [
        "#4.賣場買飲料\n",
        "罐數=int(input('請輸入購買罐數?'))\n",
        "打=int(罐數/12)\n",
        "花費=(打*200)+(罐數-打*12)*20\n",
        "print('需花費',花費)"
      ],
      "execution_count": 9,
      "outputs": [
        {
          "output_type": "stream",
          "text": [
            "請輸入購買罐數?30\n",
            "需花費 520\n"
          ],
          "name": "stdout"
        }
      ]
    },
    {
      "cell_type": "code",
      "metadata": {
        "id": "Epg1L-ytb4fs",
        "colab_type": "code",
        "colab": {}
      },
      "source": [
        ""
      ],
      "execution_count": 0,
      "outputs": []
    }
  ]
}