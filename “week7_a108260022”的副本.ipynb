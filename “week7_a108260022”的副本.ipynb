{
  "nbformat": 4,
  "nbformat_minor": 0,
  "metadata": {
    "colab": {
      "name": "“week7-a108260022”的副本",
      "provenance": []
    },
    "kernelspec": {
      "name": "python3",
      "display_name": "Python 3"
    }
  },
  "cells": [
    {
      "cell_type": "code",
      "metadata": {
        "id": "Xz_ww7yUXPmk",
        "colab_type": "code",
        "colab": {
          "base_uri": "https://localhost:8080/",
          "height": 34
        },
        "outputId": "061e89fd-65b7-4115-a37a-07e39c6879c5"
      },
      "source": [
        "t1=()\n",
        "print(t1)"
      ],
      "execution_count": 1,
      "outputs": [
        {
          "output_type": "stream",
          "text": [
            "()\n"
          ],
          "name": "stdout"
        }
      ]
    },
    {
      "cell_type": "code",
      "metadata": {
        "id": "B8xbyJmJXl-_",
        "colab_type": "code",
        "colab": {
          "base_uri": "https://localhost:8080/",
          "height": 34
        },
        "outputId": "83fd842a-12ee-477d-d690-ebc50bc1c8aa"
      },
      "source": [
        "t2=1,2,3\n",
        "print(t2)"
      ],
      "execution_count": 3,
      "outputs": [
        {
          "output_type": "stream",
          "text": [
            "(1, 2, 3)\n"
          ],
          "name": "stdout"
        }
      ]
    },
    {
      "cell_type": "code",
      "metadata": {
        "id": "shyv49TmYlw4",
        "colab_type": "code",
        "colab": {
          "base_uri": "https://localhost:8080/",
          "height": 34
        },
        "outputId": "c0b9d0bb-9322-438f-add1-1bd5a17a5ff6"
      },
      "source": [
        "t3=(1,2,3)\n",
        "print(t3[0])"
      ],
      "execution_count": 4,
      "outputs": [
        {
          "output_type": "stream",
          "text": [
            "1\n"
          ],
          "name": "stdout"
        }
      ]
    },
    {
      "cell_type": "code",
      "metadata": {
        "id": "wgo3aROUYrh-",
        "colab_type": "code",
        "colab": {
          "base_uri": "https://localhost:8080/",
          "height": 34
        },
        "outputId": "9ecebefb-af04-4856-fb3e-121c201187ae"
      },
      "source": [
        "t3=(1,2,3)\n",
        "a,b,c=t3\n",
        "print('a=',a,',b=',b,',c=',c)"
      ],
      "execution_count": 5,
      "outputs": [
        {
          "output_type": "stream",
          "text": [
            "a= 1 ,b= 2 ,c= 3\n"
          ],
          "name": "stdout"
        }
      ]
    },
    {
      "cell_type": "code",
      "metadata": {
        "id": "0scm004QY0jB",
        "colab_type": "code",
        "colab": {
          "base_uri": "https://localhost:8080/",
          "height": 51
        },
        "outputId": "bb942bf8-a625-4820-9747-bfc10c8334d3"
      },
      "source": [
        "a=10\n",
        "b=20\n",
        "print('交換前','a=',a,',b=',b)\n",
        "a,b=b,a\n",
        "print('交換後','a=',a,',b=',b)\n"
      ],
      "execution_count": 7,
      "outputs": [
        {
          "output_type": "stream",
          "text": [
            "交換前 a= 10 ,b= 20\n",
            "交換後 a= 20 ,b= 10\n"
          ],
          "name": "stdout"
        }
      ]
    },
    {
      "cell_type": "code",
      "metadata": {
        "id": "JxPnOV6EZGep",
        "colab_type": "code",
        "colab": {
          "base_uri": "https://localhost:8080/",
          "height": 34
        },
        "outputId": "d4348211-3220-45b8-aff1-730d6ebd05a2"
      },
      "source": [
        "list1=[1,2,3,4]\n",
        "t4=tuple(list1)\n",
        "print(t4)"
      ],
      "execution_count": 8,
      "outputs": [
        {
          "output_type": "stream",
          "text": [
            "(1, 2, 3, 4)\n"
          ],
          "name": "stdout"
        }
      ]
    },
    {
      "cell_type": "code",
      "metadata": {
        "id": "X-WzUlcvZIKo",
        "colab_type": "code",
        "colab": {
          "base_uri": "https://localhost:8080/",
          "height": 68
        },
        "outputId": "937f1f8f-8cc2-4e8e-aac0-41a206cd4a2c"
      },
      "source": [
        "t4=(1,2,3,4)\n",
        "t5=(t4,5,6)\n",
        "print(t5)\n",
        "print(len(t5))\n",
        "print(t5[0][0])"
      ],
      "execution_count": 9,
      "outputs": [
        {
          "output_type": "stream",
          "text": [
            "((1, 2, 3, 4), 5, 6)\n",
            "3\n",
            "1\n"
          ],
          "name": "stdout"
        }
      ]
    },
    {
      "cell_type": "code",
      "metadata": {
        "id": "EsS76wfFZNdd",
        "colab_type": "code",
        "colab": {
          "base_uri": "https://localhost:8080/",
          "height": 68
        },
        "outputId": "d8677c2e-3e6a-4393-d4bd-4c4dedb6ba66"
      },
      "source": [
        "t4=(1,2,3,4)\n",
        "t5=(t4,5,6)\n",
        "print(t5)\n",
        "print(len(t5))\n",
        "print(t5[0][0])"
      ],
      "execution_count": 10,
      "outputs": [
        {
          "output_type": "stream",
          "text": [
            "((1, 2, 3, 4), 5, 6)\n",
            "3\n",
            "1\n"
          ],
          "name": "stdout"
        }
      ]
    },
    {
      "cell_type": "code",
      "metadata": {
        "id": "1Z7R68AoaBKr",
        "colab_type": "code",
        "colab": {
          "base_uri": "https://localhost:8080/",
          "height": 34
        },
        "outputId": "cdce3b0e-c559-428a-8168-901e76b4d14f"
      },
      "source": [
        "t6=('z',)\n",
        "print(t6)"
      ],
      "execution_count": 11,
      "outputs": [
        {
          "output_type": "stream",
          "text": [
            "('z',)\n"
          ],
          "name": "stdout"
        }
      ]
    },
    {
      "cell_type": "code",
      "metadata": {
        "id": "2o7ricXwaOEe",
        "colab_type": "code",
        "colab": {
          "base_uri": "https://localhost:8080/",
          "height": 51
        },
        "outputId": "54ef5e93-9880-473c-dbd9-ed4d820c1304"
      },
      "source": [
        "shoplist=['牛奶','蛋','咖啡豆','西瓜','鳳梨']\n",
        "print('購物清單shoplist為')\n",
        "print(shoplist)"
      ],
      "execution_count": 12,
      "outputs": [
        {
          "output_type": "stream",
          "text": [
            "購物清單shoplist為\n",
            "['牛奶', '蛋', '咖啡豆', '西瓜', '鳳梨']\n"
          ],
          "name": "stdout"
        }
      ]
    },
    {
      "cell_type": "code",
      "metadata": {
        "id": "-b1CMMIUaPgM",
        "colab_type": "code",
        "colab": {
          "base_uri": "https://localhost:8080/",
          "height": 51
        },
        "outputId": "b2377d06-92bf-4eab-a095-f4169dd07f87"
      },
      "source": [
        "shoplist=['牛奶','蛋','咖啡豆','西瓜','鳳梨']\n",
        "shoplist[1]='皮蛋'\n",
        "print(\"執行shoplist[1]='皮蛋'後\")\n",
        "print(shoplist)"
      ],
      "execution_count": 13,
      "outputs": [
        {
          "output_type": "stream",
          "text": [
            "執行shoplist[1]='皮蛋'後\n",
            "['牛奶', '皮蛋', '咖啡豆', '西瓜', '鳳梨']\n"
          ],
          "name": "stdout"
        }
      ]
    },
    {
      "cell_type": "code",
      "metadata": {
        "id": "G51km9laaghb",
        "colab_type": "code",
        "colab": {
          "base_uri": "https://localhost:8080/",
          "height": 51
        },
        "outputId": "286061cd-a1c8-4967-a1f7-aaa67247dc5f"
      },
      "source": [
        "shoplist=['牛奶','蛋','咖啡豆','西瓜','鳳梨',]\n",
        "index=shoplist.index('咖啡豆')\n",
        "print(\"執行index=shoplist.index('咖啡豆')後\")\n",
        "print('index=',index)"
      ],
      "execution_count": 14,
      "outputs": [
        {
          "output_type": "stream",
          "text": [
            "執行index=shoplist.index('咖啡豆')後\n",
            "index= 2\n"
          ],
          "name": "stdout"
        }
      ]
    },
    {
      "cell_type": "code",
      "metadata": {
        "id": "_GD-X_xEajFD",
        "colab_type": "code",
        "colab": {
          "base_uri": "https://localhost:8080/",
          "height": 51
        },
        "outputId": "0e827591-7dde-484d-d7b8-dbb81cb161bc"
      },
      "source": [
        "shoplist=['牛奶','蛋','咖啡豆','西瓜','鳳梨',]\n",
        "shoplist.append('麵包')\n",
        "print(\"執行shoplist.append('麵包')後\")\n",
        "print(shoplist)"
      ],
      "execution_count": 15,
      "outputs": [
        {
          "output_type": "stream",
          "text": [
            "執行shoplist.append('麵包')後\n",
            "['牛奶', '蛋', '咖啡豆', '西瓜', '鳳梨', '麵包']\n"
          ],
          "name": "stdout"
        }
      ]
    },
    {
      "cell_type": "code",
      "metadata": {
        "id": "73DKigcnaq3n",
        "colab_type": "code",
        "colab": {
          "base_uri": "https://localhost:8080/",
          "height": 51
        },
        "outputId": "5fbf7291-da65-4970-e7a3-8251ec69473a"
      },
      "source": [
        "shoplist.insert(4,'蘋果')\n",
        "print(\"執行shoplist.insert(4,'蘋果')後\")\n",
        "print(shoplist)"
      ],
      "execution_count": 16,
      "outputs": [
        {
          "output_type": "stream",
          "text": [
            "執行shoplist.insert(4,'蘋果')後\n",
            "['牛奶', '蛋', '咖啡豆', '西瓜', '蘋果', '鳳梨', '麵包']\n"
          ],
          "name": "stdout"
        }
      ]
    },
    {
      "cell_type": "code",
      "metadata": {
        "id": "cpTnqBgpayQD",
        "colab_type": "code",
        "colab": {
          "base_uri": "https://localhost:8080/",
          "height": 51
        },
        "outputId": "2369f733-d89f-4807-926f-53492cdf6a8b"
      },
      "source": [
        "shoplist=['牛奶','蛋','咖啡豆','西瓜','鳳梨',]\n",
        "shoplist.remove('蛋')\n",
        "print(\"執行shoplist.remove('蛋')後\")\n",
        "print(shoplist)"
      ],
      "execution_count": 17,
      "outputs": [
        {
          "output_type": "stream",
          "text": [
            "執行shoplist.remove('蛋')後\n",
            "['牛奶', '咖啡豆', '西瓜', '鳳梨']\n"
          ],
          "name": "stdout"
        }
      ]
    },
    {
      "cell_type": "code",
      "metadata": {
        "id": "Ij9hWQ9Ja3iI",
        "colab_type": "code",
        "colab": {
          "base_uri": "https://localhost:8080/",
          "height": 51
        },
        "outputId": "d3f7f35f-4c8a-4f0e-ecb7-41a4b0923785"
      },
      "source": [
        "shoplist=['牛奶','蛋','咖啡豆','西瓜','鳳梨']\n",
        "del shoplist[0]\n",
        "print(\"執行 del shoplist[0]後\")\n",
        "print(shoplist)"
      ],
      "execution_count": 18,
      "outputs": [
        {
          "output_type": "stream",
          "text": [
            "執行 del shoplist[0]後\n",
            "['蛋', '咖啡豆', '西瓜', '鳳梨']\n"
          ],
          "name": "stdout"
        }
      ]
    },
    {
      "cell_type": "code",
      "metadata": {
        "id": "V20V-Z-Xa9BN",
        "colab_type": "code",
        "colab": {
          "base_uri": "https://localhost:8080/",
          "height": 119
        },
        "outputId": "45adcd96-13bc-4d41-f12f-00d8c3646be5"
      },
      "source": [
        "shoplist=['牛奶','蛋','咖啡豆','西瓜','鳳梨']\n",
        "shoplist.pop(0)\n",
        "print(\"執行shoplist.pop(0)後\")\n",
        "print(shoplist)\n",
        "shoplist.pop()\n",
        "print(\"執行shoplist.pop()後\")\n",
        "print(shoplist)\n",
        "shoplist.pop(-1)\n",
        "print(\"執行shoplist.pop(-1)後\")\n",
        "print(shoplist)"
      ],
      "execution_count": 19,
      "outputs": [
        {
          "output_type": "stream",
          "text": [
            "執行shoplist.pop(0)後\n",
            "['蛋', '咖啡豆', '西瓜', '鳳梨']\n",
            "執行shoplist.pop()後\n",
            "['蛋', '咖啡豆', '西瓜']\n",
            "執行shoplist.pop(-1)後\n",
            "['蛋', '咖啡豆']\n"
          ],
          "name": "stdout"
        }
      ]
    },
    {
      "cell_type": "code",
      "metadata": {
        "id": "9Ts5ZvNabIcg",
        "colab_type": "code",
        "colab": {
          "base_uri": "https://localhost:8080/",
          "height": 51
        },
        "outputId": "9a34e735-9a9a-427e-933f-b595d3eae690"
      },
      "source": [
        "list=[1,2.0,3,'Python']\n",
        "print(\"串列可以包含各種資料型別的元素\")\n",
        "print(list)"
      ],
      "execution_count": 20,
      "outputs": [
        {
          "output_type": "stream",
          "text": [
            "串列可以包含各種資料型別的元素\n",
            "[1, 2.0, 3, 'Python']\n"
          ],
          "name": "stdout"
        }
      ]
    },
    {
      "cell_type": "code",
      "metadata": {
        "id": "PyZq62R8bPXM",
        "colab_type": "code",
        "colab": {
          "base_uri": "https://localhost:8080/",
          "height": 85
        },
        "outputId": "14698bb1-fb7a-44ea-9f01-ebb13fe5c475"
      },
      "source": [
        "shoplist=['milk','egg','coffee','watermelon']\n",
        "for item in shoplist:\n",
        "   print(item)"
      ],
      "execution_count": 21,
      "outputs": [
        {
          "output_type": "stream",
          "text": [
            "milk\n",
            "egg\n",
            "coffee\n",
            "watermelon\n"
          ],
          "name": "stdout"
        }
      ]
    },
    {
      "cell_type": "code",
      "metadata": {
        "id": "JpsSmq1EbWc7",
        "colab_type": "code",
        "colab": {
          "base_uri": "https://localhost:8080/",
          "height": 34
        },
        "outputId": "7ca97c45-9afd-4ce9-a509-34b3d5f2045c"
      },
      "source": [
        "shoplist1=['牛奶','蛋','咖啡豆']\n",
        "shoplist2=['西瓜','鳳梨']\n",
        "shoplist_all=shoplist1+shoplist2\n",
        "print(shoplist_all)"
      ],
      "execution_count": 22,
      "outputs": [
        {
          "output_type": "stream",
          "text": [
            "['牛奶', '蛋', '咖啡豆', '西瓜', '鳳梨']\n"
          ],
          "name": "stdout"
        }
      ]
    },
    {
      "cell_type": "code",
      "metadata": {
        "id": "rNuXBNjYbx3e",
        "colab_type": "code",
        "colab": {
          "base_uri": "https://localhost:8080/",
          "height": 233
        },
        "outputId": "6587a008-a57a-490f-cd76-0a2c1de5fc85"
      },
      "source": [
        "list1=list('Python')\n",
        "print(list1)\n",
        "tuple2=('a','b',1,2)\n",
        "list2=list(tuple2)\n",
        "print(list2)\n"
      ],
      "execution_count": 47,
      "outputs": [
        {
          "output_type": "error",
          "ename": "TypeError",
          "evalue": "ignored",
          "traceback": [
            "\u001b[0;31m---------------------------------------------------------------------------\u001b[0m",
            "\u001b[0;31mTypeError\u001b[0m                                 Traceback (most recent call last)",
            "\u001b[0;32m<ipython-input-47-0b05579970eb>\u001b[0m in \u001b[0;36m<module>\u001b[0;34m()\u001b[0m\n\u001b[0;32m----> 1\u001b[0;31m \u001b[0mlist1\u001b[0m\u001b[0;34m=\u001b[0m\u001b[0mlist\u001b[0m\u001b[0;34m(\u001b[0m\u001b[0;34m'Python'\u001b[0m\u001b[0;34m)\u001b[0m\u001b[0;34m\u001b[0m\u001b[0;34m\u001b[0m\u001b[0m\n\u001b[0m\u001b[1;32m      2\u001b[0m \u001b[0mprint\u001b[0m\u001b[0;34m(\u001b[0m\u001b[0mlist1\u001b[0m\u001b[0;34m)\u001b[0m\u001b[0;34m\u001b[0m\u001b[0;34m\u001b[0m\u001b[0m\n\u001b[1;32m      3\u001b[0m \u001b[0mtuple2\u001b[0m\u001b[0;34m=\u001b[0m\u001b[0;34m(\u001b[0m\u001b[0;34m'a'\u001b[0m\u001b[0;34m,\u001b[0m\u001b[0;34m'b'\u001b[0m\u001b[0;34m,\u001b[0m\u001b[0;36m1\u001b[0m\u001b[0;34m,\u001b[0m\u001b[0;36m2\u001b[0m\u001b[0;34m)\u001b[0m\u001b[0;34m\u001b[0m\u001b[0;34m\u001b[0m\u001b[0m\n\u001b[1;32m      4\u001b[0m \u001b[0mlist2\u001b[0m\u001b[0;34m=\u001b[0m\u001b[0mlist\u001b[0m\u001b[0;34m(\u001b[0m\u001b[0mtuple2\u001b[0m\u001b[0;34m)\u001b[0m\u001b[0;34m\u001b[0m\u001b[0;34m\u001b[0m\u001b[0m\n\u001b[1;32m      5\u001b[0m \u001b[0mprint\u001b[0m\u001b[0;34m(\u001b[0m\u001b[0mlist2\u001b[0m\u001b[0;34m)\u001b[0m\u001b[0;34m\u001b[0m\u001b[0;34m\u001b[0m\u001b[0m\n",
            "\u001b[0;31mTypeError\u001b[0m: 'list' object is not callable"
          ]
        }
      ]
    },
    {
      "cell_type": "code",
      "metadata": {
        "id": "JVRyBIV-b-Bm",
        "colab_type": "code",
        "colab": {
          "base_uri": "https://localhost:8080/",
          "height": 34
        },
        "outputId": "72d67e5c-38e8-406b-ea26-43502110c19b"
      },
      "source": [
        "list3=\"2016/1/1\".split('/')\n",
        "print(list3)"
      ],
      "execution_count": 26,
      "outputs": [
        {
          "output_type": "stream",
          "text": [
            "['2016', '1', '1']\n"
          ],
          "name": "stdout"
        }
      ]
    },
    {
      "cell_type": "code",
      "metadata": {
        "id": "jTJ_ZXexcD12",
        "colab_type": "code",
        "colab": {
          "base_uri": "https://localhost:8080/",
          "height": 182
        },
        "outputId": "5cb146d9-2ae2-49d0-8431-e1eda69a7c62"
      },
      "source": [
        "a=list('abcdefghijk')\n",
        "print('a[:]為',a[:])"
      ],
      "execution_count": 27,
      "outputs": [
        {
          "output_type": "error",
          "ename": "TypeError",
          "evalue": "ignored",
          "traceback": [
            "\u001b[0;31m---------------------------------------------------------------------------\u001b[0m",
            "\u001b[0;31mTypeError\u001b[0m                                 Traceback (most recent call last)",
            "\u001b[0;32m<ipython-input-27-e5b27166d8d0>\u001b[0m in \u001b[0;36m<module>\u001b[0;34m()\u001b[0m\n\u001b[0;32m----> 1\u001b[0;31m \u001b[0ma\u001b[0m\u001b[0;34m=\u001b[0m\u001b[0mlist\u001b[0m\u001b[0;34m(\u001b[0m\u001b[0;34m'abcdefghijk'\u001b[0m\u001b[0;34m)\u001b[0m\u001b[0;34m\u001b[0m\u001b[0;34m\u001b[0m\u001b[0m\n\u001b[0m\u001b[1;32m      2\u001b[0m \u001b[0mprint\u001b[0m\u001b[0;34m(\u001b[0m\u001b[0;34m'a[:]為'\u001b[0m\u001b[0;34m,\u001b[0m\u001b[0ma\u001b[0m\u001b[0;34m[\u001b[0m\u001b[0;34m:\u001b[0m\u001b[0;34m]\u001b[0m\u001b[0;34m)\u001b[0m\u001b[0;34m\u001b[0m\u001b[0;34m\u001b[0m\u001b[0m\n",
            "\u001b[0;31mTypeError\u001b[0m: 'list' object is not callable"
          ]
        }
      ]
    },
    {
      "cell_type": "code",
      "metadata": {
        "id": "-H_1EWxTdpiw",
        "colab_type": "code",
        "colab": {
          "base_uri": "https://localhost:8080/",
          "height": 131
        },
        "outputId": "e904eb89-a127-4ca2-d0c5-9b4cbd12412c"
      },
      "source": [
        "a=list('abcdefghijk')\n",
        "print('a[:5]為',a[:5])\n",
        "print('a[5:]為',a[5:])\n",
        "print('a[:-5]為',a[:-5])\n",
        "print('a[-5:]為',a[-5:]"
      ],
      "execution_count": 30,
      "outputs": [
        {
          "output_type": "error",
          "ename": "SyntaxError",
          "evalue": "ignored",
          "traceback": [
            "\u001b[0;36m  File \u001b[0;32m\"<ipython-input-30-3c900c72b29d>\"\u001b[0;36m, line \u001b[0;32m5\u001b[0m\n\u001b[0;31m    print('a[-5:]為',a[-5:]\u001b[0m\n\u001b[0m                          ^\u001b[0m\n\u001b[0;31mSyntaxError\u001b[0m\u001b[0;31m:\u001b[0m unexpected EOF while parsing\n"
          ]
        }
      ]
    },
    {
      "cell_type": "code",
      "metadata": {
        "id": "W4WZ_XTNdz3D",
        "colab_type": "code",
        "colab": {
          "base_uri": "https://localhost:8080/",
          "height": 199
        },
        "outputId": "218e0ab1-f5c6-4c24-f0cb-0378095bc09f"
      },
      "source": [
        "a=list('abcdefghijk')\n",
        "print('a[0:4]為',a[0:4])\n",
        "print('a[-5:-3]為',a[-5:-3])"
      ],
      "execution_count": 31,
      "outputs": [
        {
          "output_type": "error",
          "ename": "TypeError",
          "evalue": "ignored",
          "traceback": [
            "\u001b[0;31m---------------------------------------------------------------------------\u001b[0m",
            "\u001b[0;31mTypeError\u001b[0m                                 Traceback (most recent call last)",
            "\u001b[0;32m<ipython-input-31-692732bf0605>\u001b[0m in \u001b[0;36m<module>\u001b[0;34m()\u001b[0m\n\u001b[0;32m----> 1\u001b[0;31m \u001b[0ma\u001b[0m\u001b[0;34m=\u001b[0m\u001b[0mlist\u001b[0m\u001b[0;34m(\u001b[0m\u001b[0;34m'abcdefghijk'\u001b[0m\u001b[0;34m)\u001b[0m\u001b[0;34m\u001b[0m\u001b[0;34m\u001b[0m\u001b[0m\n\u001b[0m\u001b[1;32m      2\u001b[0m \u001b[0mprint\u001b[0m\u001b[0;34m(\u001b[0m\u001b[0;34m'a[0:4]為'\u001b[0m\u001b[0;34m,\u001b[0m\u001b[0ma\u001b[0m\u001b[0;34m[\u001b[0m\u001b[0;36m0\u001b[0m\u001b[0;34m:\u001b[0m\u001b[0;36m4\u001b[0m\u001b[0;34m]\u001b[0m\u001b[0;34m)\u001b[0m\u001b[0;34m\u001b[0m\u001b[0;34m\u001b[0m\u001b[0m\n\u001b[1;32m      3\u001b[0m \u001b[0mprint\u001b[0m\u001b[0;34m(\u001b[0m\u001b[0;34m'a[-5:-3]為'\u001b[0m\u001b[0;34m,\u001b[0m\u001b[0ma\u001b[0m\u001b[0;34m[\u001b[0m\u001b[0;34m-\u001b[0m\u001b[0;36m5\u001b[0m\u001b[0;34m:\u001b[0m\u001b[0;34m-\u001b[0m\u001b[0;36m3\u001b[0m\u001b[0;34m]\u001b[0m\u001b[0;34m)\u001b[0m\u001b[0;34m\u001b[0m\u001b[0;34m\u001b[0m\u001b[0m\n",
            "\u001b[0;31mTypeError\u001b[0m: 'list' object is not callable"
          ]
        }
      ]
    },
    {
      "cell_type": "code",
      "metadata": {
        "id": "CC4zzukzeQ0F",
        "colab_type": "code",
        "colab": {
          "base_uri": "https://localhost:8080/",
          "height": 199
        },
        "outputId": "88d7e27a-c3eb-4bd6-d5a2-17f1834c2b41"
      },
      "source": [
        "a=list('abcdefghijk')\n",
        "print('a[1:10:3]為',a[1:10:3])\n",
        "print('a[-1:-4:1]為',a[-1:-4:-1])"
      ],
      "execution_count": 32,
      "outputs": [
        {
          "output_type": "error",
          "ename": "TypeError",
          "evalue": "ignored",
          "traceback": [
            "\u001b[0;31m---------------------------------------------------------------------------\u001b[0m",
            "\u001b[0;31mTypeError\u001b[0m                                 Traceback (most recent call last)",
            "\u001b[0;32m<ipython-input-32-35c17a417cd8>\u001b[0m in \u001b[0;36m<module>\u001b[0;34m()\u001b[0m\n\u001b[0;32m----> 1\u001b[0;31m \u001b[0ma\u001b[0m\u001b[0;34m=\u001b[0m\u001b[0mlist\u001b[0m\u001b[0;34m(\u001b[0m\u001b[0;34m'abcdefghijk'\u001b[0m\u001b[0;34m)\u001b[0m\u001b[0;34m\u001b[0m\u001b[0;34m\u001b[0m\u001b[0m\n\u001b[0m\u001b[1;32m      2\u001b[0m \u001b[0mprint\u001b[0m\u001b[0;34m(\u001b[0m\u001b[0;34m'a[1:10:3]為'\u001b[0m\u001b[0;34m,\u001b[0m\u001b[0ma\u001b[0m\u001b[0;34m[\u001b[0m\u001b[0;36m1\u001b[0m\u001b[0;34m:\u001b[0m\u001b[0;36m10\u001b[0m\u001b[0;34m:\u001b[0m\u001b[0;36m3\u001b[0m\u001b[0;34m]\u001b[0m\u001b[0;34m)\u001b[0m\u001b[0;34m\u001b[0m\u001b[0;34m\u001b[0m\u001b[0m\n\u001b[1;32m      3\u001b[0m \u001b[0mprint\u001b[0m\u001b[0;34m(\u001b[0m\u001b[0;34m'a[-1:-4:1]為'\u001b[0m\u001b[0;34m,\u001b[0m\u001b[0ma\u001b[0m\u001b[0;34m[\u001b[0m\u001b[0;34m-\u001b[0m\u001b[0;36m1\u001b[0m\u001b[0;34m:\u001b[0m\u001b[0;34m-\u001b[0m\u001b[0;36m4\u001b[0m\u001b[0;34m:\u001b[0m\u001b[0;34m-\u001b[0m\u001b[0;36m1\u001b[0m\u001b[0;34m]\u001b[0m\u001b[0;34m)\u001b[0m\u001b[0;34m\u001b[0m\u001b[0;34m\u001b[0m\u001b[0m\n",
            "\u001b[0;31mTypeError\u001b[0m: 'list' object is not callable"
          ]
        }
      ]
    },
    {
      "cell_type": "code",
      "metadata": {
        "id": "3c3lFnUGedYJ",
        "colab_type": "code",
        "colab": {
          "base_uri": "https://localhost:8080/",
          "height": 182
        },
        "outputId": "b9dd00c6-51a6-45a9-de5e-dc23244a1d51"
      },
      "source": [
        "a=list('abcdefghijk')\n",
        "print('a[::-1]為',a[::-1])"
      ],
      "execution_count": 33,
      "outputs": [
        {
          "output_type": "error",
          "ename": "TypeError",
          "evalue": "ignored",
          "traceback": [
            "\u001b[0;31m---------------------------------------------------------------------------\u001b[0m",
            "\u001b[0;31mTypeError\u001b[0m                                 Traceback (most recent call last)",
            "\u001b[0;32m<ipython-input-33-66a32b318305>\u001b[0m in \u001b[0;36m<module>\u001b[0;34m()\u001b[0m\n\u001b[0;32m----> 1\u001b[0;31m \u001b[0ma\u001b[0m\u001b[0;34m=\u001b[0m\u001b[0mlist\u001b[0m\u001b[0;34m(\u001b[0m\u001b[0;34m'abcdefghijk'\u001b[0m\u001b[0;34m)\u001b[0m\u001b[0;34m\u001b[0m\u001b[0;34m\u001b[0m\u001b[0m\n\u001b[0m\u001b[1;32m      2\u001b[0m \u001b[0mprint\u001b[0m\u001b[0;34m(\u001b[0m\u001b[0;34m'a[::-1]為'\u001b[0m\u001b[0;34m,\u001b[0m\u001b[0ma\u001b[0m\u001b[0;34m[\u001b[0m\u001b[0;34m:\u001b[0m\u001b[0;34m:\u001b[0m\u001b[0;34m-\u001b[0m\u001b[0;36m1\u001b[0m\u001b[0;34m]\u001b[0m\u001b[0;34m)\u001b[0m\u001b[0;34m\u001b[0m\u001b[0;34m\u001b[0m\u001b[0m\n",
            "\u001b[0;31mTypeError\u001b[0m: 'list' object is not callable"
          ]
        }
      ]
    },
    {
      "cell_type": "code",
      "metadata": {
        "id": "JnyANWDoejEu",
        "colab_type": "code",
        "colab": {
          "base_uri": "https://localhost:8080/",
          "height": 119
        },
        "outputId": "6882e85a-c51b-49e6-8249-103a4c0b751e"
      },
      "source": [
        "list1=[1,2,3,4]\n",
        "list2=list1\n",
        "print('list1=',list1)\n",
        "print('list2=',list2)\n",
        "list1[2]=19\n",
        "print('list1=',list1)\n",
        "print('list2=',list2)\n",
        "list2[2]=18\n",
        "print('list1=',list1)\n",
        "print('list2=',list2)"
      ],
      "execution_count": 36,
      "outputs": [
        {
          "output_type": "stream",
          "text": [
            "list1= [1, 2, 3, 4]\n",
            "list2= [1, 2, 3, 4]\n",
            "list1= [1, 2, 19, 4]\n",
            "list2= [1, 2, 19, 4]\n",
            "list1= [1, 2, 18, 4]\n",
            "list2= [1, 2, 18, 4]\n"
          ],
          "name": "stdout"
        }
      ]
    },
    {
      "cell_type": "code",
      "metadata": {
        "id": "0jxoi84IeoS1",
        "colab_type": "code",
        "colab": {
          "base_uri": "https://localhost:8080/",
          "height": 85
        },
        "outputId": "78d45339-cc4c-41cb-fc1d-909d28263876"
      },
      "source": [
        "list1=[1,2,3,4]\n",
        "list3=list1[:]\n",
        "list3[2]=19\n",
        "print('list1=',list1)\n",
        "print('list3=',list3)\n",
        "list4=list1.copy()\n",
        "list4[2]=19\n",
        "print('list1=',list1)\n",
        "print('list4=',list4)"
      ],
      "execution_count": 35,
      "outputs": [
        {
          "output_type": "stream",
          "text": [
            "list1= [1, 2, 3, 4]\n",
            "list3= [1, 2, 19, 4]\n",
            "list1= [1, 2, 3, 4]\n",
            "list4= [1, 2, 19, 4]\n"
          ],
          "name": "stdout"
        }
      ]
    }
  ]
}