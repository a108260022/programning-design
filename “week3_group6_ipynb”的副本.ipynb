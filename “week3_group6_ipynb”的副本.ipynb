{
  "nbformat": 4,
  "nbformat_minor": 0,
  "metadata": {
    "colab": {
      "name": "“week3-group6.ipynb”的副本",
      "provenance": []
    },
    "kernelspec": {
      "name": "python3",
      "display_name": "Python 3"
    }
  },
  "cells": [
    {
      "cell_type": "code",
      "metadata": {
        "id": "d0AlNe3SIgqV",
        "colab_type": "code",
        "outputId": "72b29e55-d42c-4dcf-c136-17a02f96d95b",
        "colab": {
          "base_uri": "https://localhost:8080/",
          "height": 34
        }
      },
      "source": [
        "print(\"我是楊弘緻\")"
      ],
      "execution_count": 1,
      "outputs": [
        {
          "output_type": "stream",
          "text": [
            "我是楊弘緻\n"
          ],
          "name": "stdout"
        }
      ]
    },
    {
      "cell_type": "code",
      "metadata": {
        "id": "Xs4oY_vKQgcs",
        "colab_type": "code",
        "outputId": "da91b50d-18db-43ab-c3f3-90f4df4480ae",
        "colab": {
          "base_uri": "https://localhost:8080/",
          "height": 34
        }
      },
      "source": [
        "print(\"我是徐弘智\")"
      ],
      "execution_count": 0,
      "outputs": [
        {
          "output_type": "stream",
          "text": [
            "我是徐弘智\n"
          ],
          "name": "stdout"
        }
      ]
    },
    {
      "cell_type": "code",
      "metadata": {
        "id": "6AKCzQylQBQt",
        "colab_type": "code",
        "outputId": "bc00ef0b-77f9-487f-b029-86bd227334ea",
        "colab": {
          "base_uri": "https://localhost:8080/",
          "height": 34
        }
      },
      "source": [
        "print(\"我是陳俊豪\")"
      ],
      "execution_count": 0,
      "outputs": [
        {
          "output_type": "stream",
          "text": [
            "我是陳俊豪\n"
          ],
          "name": "stdout"
        }
      ]
    },
    {
      "cell_type": "code",
      "metadata": {
        "id": "cQs7OyM2K3KR",
        "colab_type": "code",
        "colab": {}
      },
      "source": [
        "print(\"我是翁偉倫\")"
      ],
      "execution_count": 0,
      "outputs": []
    }
  ]
}